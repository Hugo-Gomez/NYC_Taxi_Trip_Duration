{
 "cells": [
  {
   "cell_type": "markdown",
   "metadata": {
    "_uuid": "113bc8cc81ae8107998526eec014f2d3a67f4dc1"
   },
   "source": [
    "# NYC Taxi Trip Duration"
   ]
  },
  {
   "cell_type": "markdown",
   "metadata": {
    "_uuid": "1d95886970b03dd088eecff700cc849dfe9d4558"
   },
   "source": [
    "## Module Imports"
   ]
  },
  {
   "cell_type": "code",
   "execution_count": 1,
   "metadata": {
    "_uuid": "7ef879c6b8e8c111f7a09654d03c1118e500d2b0"
   },
   "outputs": [],
   "source": [
    "import os\n",
    "import matplotlib.pyplot as plt\n",
    "import pandas as pd\n",
    "import numpy as np\n",
    "import seaborn as sns\n",
    "import math\n",
    "from datetime import datetime"
   ]
  },
  {
   "cell_type": "code",
   "execution_count": 2,
   "metadata": {
    "_uuid": "2c3b5880359c16a3479a0d06f8077af37b06439f"
   },
   "outputs": [],
   "source": [
    "%matplotlib inline\n",
    "sns.set({'figure.figsize':(16,8), 'axes.titlesize':15, 'axes.labelsize':10})"
   ]
  },
  {
   "cell_type": "markdown",
   "metadata": {
    "_uuid": "73e8e2eee76337ba994eafecd3ffabdaab989ab0"
   },
   "source": [
    "## Data Loading"
   ]
  },
  {
   "cell_type": "code",
   "execution_count": 3,
   "metadata": {
    "_uuid": "9c609495734d777dc564fb741f444c0f79837028"
   },
   "outputs": [
    {
     "name": "stdout",
     "output_type": "stream",
     "text": [
      "sample_submission.csv  test.csv  train.csv\r\n"
     ]
    }
   ],
   "source": [
    "!ls ../input"
   ]
  },
  {
   "cell_type": "code",
   "execution_count": 4,
   "metadata": {
    "_uuid": "a6598660c3c2cc15ebe1c40c891e79b05afcf785"
   },
   "outputs": [],
   "source": [
    "FILEPATH = os.path.join(\"..\", \"input\")\n",
    "TRAINPATH = os.path.join(FILEPATH, \"train.csv\")\n",
    "TESTPATH = os.path.join(FILEPATH, \"test.csv\")"
   ]
  },
  {
   "cell_type": "markdown",
   "metadata": {
    "_uuid": "d0e4de6ad8ff21516b208ac4b36e138585e4dc75"
   },
   "source": [
    "> Visualisation de l'en-tête du fichier **train.csv**"
   ]
  },
  {
   "cell_type": "code",
   "execution_count": 5,
   "metadata": {
    "_uuid": "8a4ccfbc26572e5f665d31b24182bbda5a1a2de7"
   },
   "outputs": [
    {
     "data": {
      "text/html": [
       "<div>\n",
       "<style scoped>\n",
       "    .dataframe tbody tr th:only-of-type {\n",
       "        vertical-align: middle;\n",
       "    }\n",
       "\n",
       "    .dataframe tbody tr th {\n",
       "        vertical-align: top;\n",
       "    }\n",
       "\n",
       "    .dataframe thead th {\n",
       "        text-align: right;\n",
       "    }\n",
       "</style>\n",
       "<table border=\"1\" class=\"dataframe\">\n",
       "  <thead>\n",
       "    <tr style=\"text-align: right;\">\n",
       "      <th></th>\n",
       "      <th>vendor_id</th>\n",
       "      <th>pickup_datetime</th>\n",
       "      <th>dropoff_datetime</th>\n",
       "      <th>passenger_count</th>\n",
       "      <th>pickup_longitude</th>\n",
       "      <th>pickup_latitude</th>\n",
       "      <th>dropoff_longitude</th>\n",
       "      <th>dropoff_latitude</th>\n",
       "      <th>store_and_fwd_flag</th>\n",
       "      <th>trip_duration</th>\n",
       "    </tr>\n",
       "    <tr>\n",
       "      <th>id</th>\n",
       "      <th></th>\n",
       "      <th></th>\n",
       "      <th></th>\n",
       "      <th></th>\n",
       "      <th></th>\n",
       "      <th></th>\n",
       "      <th></th>\n",
       "      <th></th>\n",
       "      <th></th>\n",
       "      <th></th>\n",
       "    </tr>\n",
       "  </thead>\n",
       "  <tbody>\n",
       "    <tr>\n",
       "      <th>id2875421</th>\n",
       "      <td>2</td>\n",
       "      <td>2016-03-14 17:24:55</td>\n",
       "      <td>2016-03-14 17:32:30</td>\n",
       "      <td>1</td>\n",
       "      <td>-73.982155</td>\n",
       "      <td>40.767937</td>\n",
       "      <td>-73.964630</td>\n",
       "      <td>40.765602</td>\n",
       "      <td>N</td>\n",
       "      <td>455</td>\n",
       "    </tr>\n",
       "    <tr>\n",
       "      <th>id2377394</th>\n",
       "      <td>1</td>\n",
       "      <td>2016-06-12 00:43:35</td>\n",
       "      <td>2016-06-12 00:54:38</td>\n",
       "      <td>1</td>\n",
       "      <td>-73.980415</td>\n",
       "      <td>40.738564</td>\n",
       "      <td>-73.999481</td>\n",
       "      <td>40.731152</td>\n",
       "      <td>N</td>\n",
       "      <td>663</td>\n",
       "    </tr>\n",
       "    <tr>\n",
       "      <th>id3858529</th>\n",
       "      <td>2</td>\n",
       "      <td>2016-01-19 11:35:24</td>\n",
       "      <td>2016-01-19 12:10:48</td>\n",
       "      <td>1</td>\n",
       "      <td>-73.979027</td>\n",
       "      <td>40.763939</td>\n",
       "      <td>-74.005333</td>\n",
       "      <td>40.710087</td>\n",
       "      <td>N</td>\n",
       "      <td>2124</td>\n",
       "    </tr>\n",
       "    <tr>\n",
       "      <th>id3504673</th>\n",
       "      <td>2</td>\n",
       "      <td>2016-04-06 19:32:31</td>\n",
       "      <td>2016-04-06 19:39:40</td>\n",
       "      <td>1</td>\n",
       "      <td>-74.010040</td>\n",
       "      <td>40.719971</td>\n",
       "      <td>-74.012268</td>\n",
       "      <td>40.706718</td>\n",
       "      <td>N</td>\n",
       "      <td>429</td>\n",
       "    </tr>\n",
       "    <tr>\n",
       "      <th>id2181028</th>\n",
       "      <td>2</td>\n",
       "      <td>2016-03-26 13:30:55</td>\n",
       "      <td>2016-03-26 13:38:10</td>\n",
       "      <td>1</td>\n",
       "      <td>-73.973053</td>\n",
       "      <td>40.793209</td>\n",
       "      <td>-73.972923</td>\n",
       "      <td>40.782520</td>\n",
       "      <td>N</td>\n",
       "      <td>435</td>\n",
       "    </tr>\n",
       "  </tbody>\n",
       "</table>\n",
       "</div>"
      ],
      "text/plain": [
       "           vendor_id      ...      trip_duration\n",
       "id                        ...                   \n",
       "id2875421          2      ...                455\n",
       "id2377394          1      ...                663\n",
       "id3858529          2      ...               2124\n",
       "id3504673          2      ...                429\n",
       "id2181028          2      ...                435\n",
       "\n",
       "[5 rows x 10 columns]"
      ]
     },
     "execution_count": 5,
     "metadata": {},
     "output_type": "execute_result"
    }
   ],
   "source": [
    "df = pd.read_csv(TRAINPATH, index_col=0)\n",
    "df.head()"
   ]
  },
  {
   "cell_type": "markdown",
   "metadata": {
    "_uuid": "5e2d71b4f29370ca37d6e3645464fba34a1493d9"
   },
   "source": [
    "> Visualisation de l'en-tête du fichier **test.csv**"
   ]
  },
  {
   "cell_type": "code",
   "execution_count": 6,
   "metadata": {
    "_uuid": "7471043974136832e166c48c6e28b89b9d4baeb8"
   },
   "outputs": [
    {
     "data": {
      "text/html": [
       "<div>\n",
       "<style scoped>\n",
       "    .dataframe tbody tr th:only-of-type {\n",
       "        vertical-align: middle;\n",
       "    }\n",
       "\n",
       "    .dataframe tbody tr th {\n",
       "        vertical-align: top;\n",
       "    }\n",
       "\n",
       "    .dataframe thead th {\n",
       "        text-align: right;\n",
       "    }\n",
       "</style>\n",
       "<table border=\"1\" class=\"dataframe\">\n",
       "  <thead>\n",
       "    <tr style=\"text-align: right;\">\n",
       "      <th></th>\n",
       "      <th>id</th>\n",
       "      <th>vendor_id</th>\n",
       "      <th>pickup_datetime</th>\n",
       "      <th>passenger_count</th>\n",
       "      <th>pickup_longitude</th>\n",
       "      <th>pickup_latitude</th>\n",
       "      <th>dropoff_longitude</th>\n",
       "      <th>dropoff_latitude</th>\n",
       "      <th>store_and_fwd_flag</th>\n",
       "    </tr>\n",
       "  </thead>\n",
       "  <tbody>\n",
       "    <tr>\n",
       "      <th>0</th>\n",
       "      <td>id3004672</td>\n",
       "      <td>1</td>\n",
       "      <td>2016-06-30 23:59:58</td>\n",
       "      <td>1</td>\n",
       "      <td>-73.988129</td>\n",
       "      <td>40.732029</td>\n",
       "      <td>-73.990173</td>\n",
       "      <td>40.756680</td>\n",
       "      <td>N</td>\n",
       "    </tr>\n",
       "    <tr>\n",
       "      <th>1</th>\n",
       "      <td>id3505355</td>\n",
       "      <td>1</td>\n",
       "      <td>2016-06-30 23:59:53</td>\n",
       "      <td>1</td>\n",
       "      <td>-73.964203</td>\n",
       "      <td>40.679993</td>\n",
       "      <td>-73.959808</td>\n",
       "      <td>40.655403</td>\n",
       "      <td>N</td>\n",
       "    </tr>\n",
       "    <tr>\n",
       "      <th>2</th>\n",
       "      <td>id1217141</td>\n",
       "      <td>1</td>\n",
       "      <td>2016-06-30 23:59:47</td>\n",
       "      <td>1</td>\n",
       "      <td>-73.997437</td>\n",
       "      <td>40.737583</td>\n",
       "      <td>-73.986160</td>\n",
       "      <td>40.729523</td>\n",
       "      <td>N</td>\n",
       "    </tr>\n",
       "    <tr>\n",
       "      <th>3</th>\n",
       "      <td>id2150126</td>\n",
       "      <td>2</td>\n",
       "      <td>2016-06-30 23:59:41</td>\n",
       "      <td>1</td>\n",
       "      <td>-73.956070</td>\n",
       "      <td>40.771900</td>\n",
       "      <td>-73.986427</td>\n",
       "      <td>40.730469</td>\n",
       "      <td>N</td>\n",
       "    </tr>\n",
       "    <tr>\n",
       "      <th>4</th>\n",
       "      <td>id1598245</td>\n",
       "      <td>1</td>\n",
       "      <td>2016-06-30 23:59:33</td>\n",
       "      <td>1</td>\n",
       "      <td>-73.970215</td>\n",
       "      <td>40.761475</td>\n",
       "      <td>-73.961510</td>\n",
       "      <td>40.755890</td>\n",
       "      <td>N</td>\n",
       "    </tr>\n",
       "  </tbody>\n",
       "</table>\n",
       "</div>"
      ],
      "text/plain": [
       "          id  vendor_id         ...         dropoff_latitude  store_and_fwd_flag\n",
       "0  id3004672          1         ...                40.756680                   N\n",
       "1  id3505355          1         ...                40.655403                   N\n",
       "2  id1217141          1         ...                40.729523                   N\n",
       "3  id2150126          2         ...                40.730469                   N\n",
       "4  id1598245          1         ...                40.755890                   N\n",
       "\n",
       "[5 rows x 9 columns]"
      ]
     },
     "execution_count": 6,
     "metadata": {},
     "output_type": "execute_result"
    }
   ],
   "source": [
    "df_test = pd.read_csv(TESTPATH)\n",
    "df_test.head()"
   ]
  },
  {
   "cell_type": "markdown",
   "metadata": {
    "_uuid": "793b1fbbdfbe585c8da85ab2a06b396a18f3b082"
   },
   "source": [
    "## Data Exploration"
   ]
  },
  {
   "cell_type": "markdown",
   "metadata": {
    "_uuid": "e709aaab9a9330a6ad950c0bca6fe8c2dd307d46"
   },
   "source": [
    "### Data fields\n",
    "\n",
    "`id` - a unique identifier for each trip\n",
    "\n",
    "`vendor_id` - a code indicating the provider associated with the trip record\n",
    "\n",
    "`pickup_datetime` - date and time when the meter was engaged\n",
    "\n",
    "`dropoff_datetime` - date and time when the meter was disengaged\n",
    "\n",
    "`passenger_count` - the number of passengers in the vehicle (driver entered value)\n",
    "\n",
    "`pickup_longitude` - the longitude where the meter was engaged\n",
    "\n",
    "`pickup_latitude` - the latitude where the meter was engaged\n",
    "\n",
    "`dropoff_longitude` - the longitude where the meter was disengaged\n",
    "\n",
    "`dropoff_latitude` - the latitude where the meter was disengaged\n",
    "\n",
    "`store_and_fwd_flag` - This flag indicates whether the trip record was held in vehicle memory before sending to the vendor because the vehicle did not have a connection to the server - Y=store and forward; N=not a store and forward trip\n",
    "\n",
    "`trip_duration` - duration of the trip in seconds"
   ]
  },
  {
   "cell_type": "markdown",
   "metadata": {
    "_uuid": "6ee3882e85ab377ede0d380ddc3d894fb24c621f"
   },
   "source": [
    "> Informations du fichier **train.csv**"
   ]
  },
  {
   "cell_type": "code",
   "execution_count": 7,
   "metadata": {
    "_uuid": "a4dde8666a2cf187c785161a098f13143225df96"
   },
   "outputs": [
    {
     "name": "stdout",
     "output_type": "stream",
     "text": [
      "<class 'pandas.core.frame.DataFrame'>\n",
      "Index: 1458644 entries, id2875421 to id1209952\n",
      "Data columns (total 10 columns):\n",
      "vendor_id             1458644 non-null int64\n",
      "pickup_datetime       1458644 non-null object\n",
      "dropoff_datetime      1458644 non-null object\n",
      "passenger_count       1458644 non-null int64\n",
      "pickup_longitude      1458644 non-null float64\n",
      "pickup_latitude       1458644 non-null float64\n",
      "dropoff_longitude     1458644 non-null float64\n",
      "dropoff_latitude      1458644 non-null float64\n",
      "store_and_fwd_flag    1458644 non-null object\n",
      "trip_duration         1458644 non-null int64\n",
      "dtypes: float64(4), int64(3), object(3)\n",
      "memory usage: 122.4+ MB\n"
     ]
    }
   ],
   "source": [
    "df.info()"
   ]
  },
  {
   "cell_type": "code",
   "execution_count": 8,
   "metadata": {
    "_uuid": "6252fdef7f5c4dfd755b73ced7a9373d411c3664"
   },
   "outputs": [
    {
     "data": {
      "text/html": [
       "<div>\n",
       "<style scoped>\n",
       "    .dataframe tbody tr th:only-of-type {\n",
       "        vertical-align: middle;\n",
       "    }\n",
       "\n",
       "    .dataframe tbody tr th {\n",
       "        vertical-align: top;\n",
       "    }\n",
       "\n",
       "    .dataframe thead th {\n",
       "        text-align: right;\n",
       "    }\n",
       "</style>\n",
       "<table border=\"1\" class=\"dataframe\">\n",
       "  <thead>\n",
       "    <tr style=\"text-align: right;\">\n",
       "      <th></th>\n",
       "      <th>count</th>\n",
       "      <th>mean</th>\n",
       "      <th>std</th>\n",
       "      <th>min</th>\n",
       "      <th>25%</th>\n",
       "      <th>50%</th>\n",
       "      <th>75%</th>\n",
       "      <th>max</th>\n",
       "    </tr>\n",
       "  </thead>\n",
       "  <tbody>\n",
       "    <tr>\n",
       "      <th>vendor_id</th>\n",
       "      <td>1458644.0</td>\n",
       "      <td>1.534950</td>\n",
       "      <td>0.498777</td>\n",
       "      <td>1.000000</td>\n",
       "      <td>1.000000</td>\n",
       "      <td>2.000000</td>\n",
       "      <td>2.000000</td>\n",
       "      <td>2.000000e+00</td>\n",
       "    </tr>\n",
       "    <tr>\n",
       "      <th>passenger_count</th>\n",
       "      <td>1458644.0</td>\n",
       "      <td>1.664530</td>\n",
       "      <td>1.314242</td>\n",
       "      <td>0.000000</td>\n",
       "      <td>1.000000</td>\n",
       "      <td>1.000000</td>\n",
       "      <td>2.000000</td>\n",
       "      <td>9.000000e+00</td>\n",
       "    </tr>\n",
       "    <tr>\n",
       "      <th>pickup_longitude</th>\n",
       "      <td>1458644.0</td>\n",
       "      <td>-73.973486</td>\n",
       "      <td>0.070902</td>\n",
       "      <td>-121.933342</td>\n",
       "      <td>-73.991867</td>\n",
       "      <td>-73.981743</td>\n",
       "      <td>-73.967331</td>\n",
       "      <td>-6.133553e+01</td>\n",
       "    </tr>\n",
       "    <tr>\n",
       "      <th>pickup_latitude</th>\n",
       "      <td>1458644.0</td>\n",
       "      <td>40.750921</td>\n",
       "      <td>0.032881</td>\n",
       "      <td>34.359695</td>\n",
       "      <td>40.737347</td>\n",
       "      <td>40.754101</td>\n",
       "      <td>40.768360</td>\n",
       "      <td>5.188108e+01</td>\n",
       "    </tr>\n",
       "    <tr>\n",
       "      <th>dropoff_longitude</th>\n",
       "      <td>1458644.0</td>\n",
       "      <td>-73.973416</td>\n",
       "      <td>0.070643</td>\n",
       "      <td>-121.933304</td>\n",
       "      <td>-73.991325</td>\n",
       "      <td>-73.979752</td>\n",
       "      <td>-73.963013</td>\n",
       "      <td>-6.133553e+01</td>\n",
       "    </tr>\n",
       "    <tr>\n",
       "      <th>dropoff_latitude</th>\n",
       "      <td>1458644.0</td>\n",
       "      <td>40.751800</td>\n",
       "      <td>0.035891</td>\n",
       "      <td>32.181141</td>\n",
       "      <td>40.735885</td>\n",
       "      <td>40.754524</td>\n",
       "      <td>40.769810</td>\n",
       "      <td>4.392103e+01</td>\n",
       "    </tr>\n",
       "    <tr>\n",
       "      <th>trip_duration</th>\n",
       "      <td>1458644.0</td>\n",
       "      <td>959.492273</td>\n",
       "      <td>5237.431724</td>\n",
       "      <td>1.000000</td>\n",
       "      <td>397.000000</td>\n",
       "      <td>662.000000</td>\n",
       "      <td>1075.000000</td>\n",
       "      <td>3.526282e+06</td>\n",
       "    </tr>\n",
       "  </tbody>\n",
       "</table>\n",
       "</div>"
      ],
      "text/plain": [
       "                       count      ...                max\n",
       "vendor_id          1458644.0      ...       2.000000e+00\n",
       "passenger_count    1458644.0      ...       9.000000e+00\n",
       "pickup_longitude   1458644.0      ...      -6.133553e+01\n",
       "pickup_latitude    1458644.0      ...       5.188108e+01\n",
       "dropoff_longitude  1458644.0      ...      -6.133553e+01\n",
       "dropoff_latitude   1458644.0      ...       4.392103e+01\n",
       "trip_duration      1458644.0      ...       3.526282e+06\n",
       "\n",
       "[7 rows x 8 columns]"
      ]
     },
     "execution_count": 8,
     "metadata": {},
     "output_type": "execute_result"
    }
   ],
   "source": [
    "df.describe().T"
   ]
  },
  {
   "cell_type": "markdown",
   "metadata": {
    "_uuid": "835c982dc1337861c081e41d7b0b919b249adc81"
   },
   "source": [
    "> Informations du fichier **test.csv**"
   ]
  },
  {
   "cell_type": "code",
   "execution_count": 9,
   "metadata": {
    "_uuid": "816c1580930b77f5299e9cc7fca2f5bbaca2d9e4"
   },
   "outputs": [
    {
     "name": "stdout",
     "output_type": "stream",
     "text": [
      "<class 'pandas.core.frame.DataFrame'>\n",
      "RangeIndex: 625134 entries, 0 to 625133\n",
      "Data columns (total 9 columns):\n",
      "id                    625134 non-null object\n",
      "vendor_id             625134 non-null int64\n",
      "pickup_datetime       625134 non-null object\n",
      "passenger_count       625134 non-null int64\n",
      "pickup_longitude      625134 non-null float64\n",
      "pickup_latitude       625134 non-null float64\n",
      "dropoff_longitude     625134 non-null float64\n",
      "dropoff_latitude      625134 non-null float64\n",
      "store_and_fwd_flag    625134 non-null object\n",
      "dtypes: float64(4), int64(2), object(3)\n",
      "memory usage: 42.9+ MB\n"
     ]
    }
   ],
   "source": [
    "df_test.info()"
   ]
  },
  {
   "cell_type": "code",
   "execution_count": 10,
   "metadata": {
    "_uuid": "989ae8b56040165146875cefd0e56e12154e21df"
   },
   "outputs": [
    {
     "data": {
      "text/html": [
       "<div>\n",
       "<style scoped>\n",
       "    .dataframe tbody tr th:only-of-type {\n",
       "        vertical-align: middle;\n",
       "    }\n",
       "\n",
       "    .dataframe tbody tr th {\n",
       "        vertical-align: top;\n",
       "    }\n",
       "\n",
       "    .dataframe thead th {\n",
       "        text-align: right;\n",
       "    }\n",
       "</style>\n",
       "<table border=\"1\" class=\"dataframe\">\n",
       "  <thead>\n",
       "    <tr style=\"text-align: right;\">\n",
       "      <th></th>\n",
       "      <th>count</th>\n",
       "      <th>mean</th>\n",
       "      <th>std</th>\n",
       "      <th>min</th>\n",
       "      <th>25%</th>\n",
       "      <th>50%</th>\n",
       "      <th>75%</th>\n",
       "      <th>max</th>\n",
       "    </tr>\n",
       "  </thead>\n",
       "  <tbody>\n",
       "    <tr>\n",
       "      <th>vendor_id</th>\n",
       "      <td>625134.0</td>\n",
       "      <td>1.534884</td>\n",
       "      <td>0.498782</td>\n",
       "      <td>1.000000</td>\n",
       "      <td>1.000000</td>\n",
       "      <td>2.000000</td>\n",
       "      <td>2.000000</td>\n",
       "      <td>2.000000</td>\n",
       "    </tr>\n",
       "    <tr>\n",
       "      <th>passenger_count</th>\n",
       "      <td>625134.0</td>\n",
       "      <td>1.661765</td>\n",
       "      <td>1.311293</td>\n",
       "      <td>0.000000</td>\n",
       "      <td>1.000000</td>\n",
       "      <td>1.000000</td>\n",
       "      <td>2.000000</td>\n",
       "      <td>9.000000</td>\n",
       "    </tr>\n",
       "    <tr>\n",
       "      <th>pickup_longitude</th>\n",
       "      <td>625134.0</td>\n",
       "      <td>-73.973614</td>\n",
       "      <td>0.073389</td>\n",
       "      <td>-121.933128</td>\n",
       "      <td>-73.991852</td>\n",
       "      <td>-73.981743</td>\n",
       "      <td>-73.967400</td>\n",
       "      <td>-69.248917</td>\n",
       "    </tr>\n",
       "    <tr>\n",
       "      <th>pickup_latitude</th>\n",
       "      <td>625134.0</td>\n",
       "      <td>40.750927</td>\n",
       "      <td>0.029848</td>\n",
       "      <td>37.389587</td>\n",
       "      <td>40.737392</td>\n",
       "      <td>40.754093</td>\n",
       "      <td>40.768394</td>\n",
       "      <td>42.814938</td>\n",
       "    </tr>\n",
       "    <tr>\n",
       "      <th>dropoff_longitude</th>\n",
       "      <td>625134.0</td>\n",
       "      <td>-73.973458</td>\n",
       "      <td>0.072565</td>\n",
       "      <td>-121.933327</td>\n",
       "      <td>-73.991318</td>\n",
       "      <td>-73.979774</td>\n",
       "      <td>-73.963013</td>\n",
       "      <td>-67.496796</td>\n",
       "    </tr>\n",
       "    <tr>\n",
       "      <th>dropoff_latitude</th>\n",
       "      <td>625134.0</td>\n",
       "      <td>40.751816</td>\n",
       "      <td>0.035824</td>\n",
       "      <td>36.601322</td>\n",
       "      <td>40.736000</td>\n",
       "      <td>40.754543</td>\n",
       "      <td>40.769852</td>\n",
       "      <td>48.857597</td>\n",
       "    </tr>\n",
       "  </tbody>\n",
       "</table>\n",
       "</div>"
      ],
      "text/plain": [
       "                      count       mean    ...            75%        max\n",
       "vendor_id          625134.0   1.534884    ...       2.000000   2.000000\n",
       "passenger_count    625134.0   1.661765    ...       2.000000   9.000000\n",
       "pickup_longitude   625134.0 -73.973614    ...     -73.967400 -69.248917\n",
       "pickup_latitude    625134.0  40.750927    ...      40.768394  42.814938\n",
       "dropoff_longitude  625134.0 -73.973458    ...     -73.963013 -67.496796\n",
       "dropoff_latitude   625134.0  40.751816    ...      40.769852  48.857597\n",
       "\n",
       "[6 rows x 8 columns]"
      ]
     },
     "execution_count": 10,
     "metadata": {},
     "output_type": "execute_result"
    }
   ],
   "source": [
    "df_test.describe().T"
   ]
  },
  {
   "cell_type": "markdown",
   "metadata": {
    "_uuid": "ab74d96f286213a3596a5eb9281ded9c80babe68"
   },
   "source": [
    "> On observe que certaines colonnes n'existent pas dans le fichier de test. La colonne `trip_duration` n'est évidemment pas présente puisqu'il s'agit de notre cible de prédiction. La colonne `dropoff_datetime` n'est pas non plus présente. Il faudra donc faire attention à ne pas la selectionner pour le choix des features utilisées."
   ]
  },
  {
   "cell_type": "markdown",
   "metadata": {
    "_uuid": "4a2c97d8de77fceb92437ee0c6e38d763f3e725c"
   },
   "source": [
    "## Data Visualisation"
   ]
  },
  {
   "cell_type": "code",
   "execution_count": 11,
   "metadata": {
    "_uuid": "7cd1424e8946b9808298e387d4ff7534aaf33456"
   },
   "outputs": [
    {
     "data": {
      "image/png": "[encoded data removed]",
      "text/plain": [
       "<Figure size 1152x576 with 1 Axes>"
      ]
     },
     "metadata": {},
     "output_type": "display_data"
    }
   ],
   "source": [
    "plt.hist(df.loc[df.trip_duration<6000,\"trip_duration\"], bins=100);\n",
    "plt.title('Répartition de voyage en taxi à NYC')\n",
    "plt.xlabel('Durée d\\'un voyage en taxi à NYC (sec)')\n",
    "plt.ylabel('Nombre d\\'enregistrement')\n",
    "plt.show()"
   ]
  },
  {
   "cell_type": "markdown",
   "metadata": {
    "_uuid": "340a0133e5112912c6cc831b7b986631162d8e3e"
   },
   "source": [
    "> On observe que la répartition des valeurs de la durée d'une course de taxi à NYC est réparti à droite. Nous pouvons donc essayer d'appliquer un logarithme sur ces valeurs afin d'avoir un meilleur aperçu."
   ]
  },
  {
   "cell_type": "code",
   "execution_count": 12,
   "metadata": {
    "_uuid": "1e4829bbc1be08a7c7844f360c1627fae4cd4437"
   },
   "outputs": [
    {
     "data": {
      "image/png": "[encoded data removed]",
      "text/plain": [
       "<Figure size 1152x576 with 1 Axes>"
      ]
     },
     "metadata": {},
     "output_type": "display_data"
    }
   ],
   "source": [
    "plt.hist(np.log(df.trip_duration), bins=200);\n",
    "plt.title('Répartition de voyage en taxi à NYC (après utilisation d\\'un logarithme sur les valeurs)')\n",
    "plt.xlabel('Durée d\\'un voyage en taxi à NYC')\n",
    "plt.ylabel('Nombre d\\'enregistrement')\n",
    "plt.show()"
   ]
  },
  {
   "cell_type": "code",
   "execution_count": 13,
   "metadata": {
    "_uuid": "6c5c6488ab7f8c888c7a3f36aa933eeaa21b3043"
   },
   "outputs": [
    {
     "data": {
      "image/png": "[encoded data removed]",
      "text/plain": [
       "<Figure size 1152x576 with 1 Axes>"
      ]
     },
     "metadata": {},
     "output_type": "display_data"
    }
   ],
   "source": [
    "plt.figure()\n",
    "g = sns.boxplot(x = 'vendor_id', y = 'trip_duration', data=df[df['trip_duration'] < 3000])\n",
    "plt.title('Corrélation entre le vendeur et le temps de trajet d\\'une course de taxi')\n",
    "plt.xlabel('Identifiant du vendeur')\n",
    "plt.ylabel('Temps de trajet d\\'une course de taxi')\n",
    "plt.show()"
   ]
  },
  {
   "cell_type": "markdown",
   "metadata": {
    "_uuid": "61b2d02288b18dbdd103c8b7dc5206ec3011837a"
   },
   "source": [
    "> On observe que la répartition du temps de trajet en est quasiment identique entre les deux entreprises. Je vais donc choisir de ne pas utiliser cette feature car elle n'est pas utile."
   ]
  },
  {
   "cell_type": "code",
   "execution_count": 14,
   "metadata": {
    "_uuid": "622a30356ce89568b15e2236ffd6debf11ded44a"
   },
   "outputs": [
    {
     "data": {
      "image/png": "[encoded data removed]",
      "text/plain": [
       "<Figure size 1152x576 with 1 Axes>"
      ]
     },
     "metadata": {},
     "output_type": "display_data"
    }
   ],
   "source": [
    "plt.figure()\n",
    "g = sns.boxplot(x = 'passenger_count', y = 'trip_duration', data=df[df['trip_duration'] < 3000])\n",
    "plt.title('Corrélation entre le nombre de passager et le temps de trajet d\\'une course de taxi')\n",
    "plt.xlabel('Nombre de passager')\n",
    "plt.ylabel('Temps de trajet d\\'une course de taxi')\n",
    "plt.show()"
   ]
  },
  {
   "cell_type": "markdown",
   "metadata": {
    "_uuid": "b4bf029d4b86111c9f116b041410f546aadd445c"
   },
   "source": [
    "> On observe que la répartition du temps de trajet en est quasiment identique quel que soit le nombre de passager. Je vais donc choisir de ne pas utiliser cette feature car elle n'est pas utile.\n",
    "De plus, on observe qu'il y a certaine course qui n'ont pas de passager, ce qui n'a pas vraiment de sens. Je vais donc choisir de supprimer les entrées qui ont 0 passager."
   ]
  },
  {
   "cell_type": "code",
   "execution_count": 15,
   "metadata": {
    "_uuid": "3735278b662eceab9ebb4351f610f412db129eca"
   },
   "outputs": [],
   "source": [
    "df = df[df.passenger_count != 0]"
   ]
  },
  {
   "cell_type": "markdown",
   "metadata": {
    "_uuid": "b1adf8d4ddfa89fc07d61a1373d4a902765eb4c3"
   },
   "source": [
    "## Data Preprocessing"
   ]
  },
  {
   "cell_type": "markdown",
   "metadata": {
    "_uuid": "166abf08d210c184180d9320b76a40e95ee1ac66"
   },
   "source": [
    "### Missing & Duplicated values"
   ]
  },
  {
   "cell_type": "code",
   "execution_count": 16,
   "metadata": {
    "_uuid": "9792859019d90f301c1b3e45cbea8497d1d9adae"
   },
   "outputs": [
    {
     "data": {
      "text/plain": [
       "7"
      ]
     },
     "execution_count": 16,
     "metadata": {},
     "output_type": "execute_result"
    }
   ],
   "source": [
    "df.duplicated().sum()"
   ]
  },
  {
   "cell_type": "markdown",
   "metadata": {
    "_uuid": "8705683af501e25032cfb4f0063d86ed7c98c922"
   },
   "source": [
    "> On observe qu'il y a 7 entrées dupliquées dans notre dataframe. Je vais choisir de les supprimer car même s'il est possible que 7 courses soient absolument identique, cela paraît peut probable."
   ]
  },
  {
   "cell_type": "code",
   "execution_count": 17,
   "metadata": {
    "_uuid": "2230b01620284e1504a4ab3868117578161d373c"
   },
   "outputs": [
    {
     "data": {
      "text/plain": [
       "0"
      ]
     },
     "execution_count": 17,
     "metadata": {},
     "output_type": "execute_result"
    }
   ],
   "source": [
    "df = df.drop_duplicates()\n",
    "df.duplicated().sum()"
   ]
  },
  {
   "cell_type": "code",
   "execution_count": 18,
   "metadata": {
    "_uuid": "2d237ce741ad566befe05bd5dc2825d772a5049c"
   },
   "outputs": [
    {
     "data": {
      "text/plain": [
       "vendor_id             0\n",
       "pickup_datetime       0\n",
       "dropoff_datetime      0\n",
       "passenger_count       0\n",
       "pickup_longitude      0\n",
       "pickup_latitude       0\n",
       "dropoff_longitude     0\n",
       "dropoff_latitude      0\n",
       "store_and_fwd_flag    0\n",
       "trip_duration         0\n",
       "dtype: int64"
      ]
     },
     "execution_count": 18,
     "metadata": {},
     "output_type": "execute_result"
    }
   ],
   "source": [
    "df.isna().sum()"
   ]
  },
  {
   "cell_type": "markdown",
   "metadata": {
    "_uuid": "d429f1d4699a683e850af4069427e7dca78fdcf9"
   },
   "source": [
    "> Aucune valeur est indéfini, je n'apporte donc pas de traitement particulier."
   ]
  },
  {
   "cell_type": "markdown",
   "metadata": {
    "_uuid": "9a81df29a32aa40ad816de122a028909734c72ec"
   },
   "source": [
    "### Outliers"
   ]
  },
  {
   "cell_type": "code",
   "execution_count": 19,
   "metadata": {
    "_uuid": "323c79c1ec3a277671cfe7765f0c0236b174e6c6"
   },
   "outputs": [
    {
     "data": {
      "text/plain": [
       "Text(0.5,0.98,'Visualisation des outliers')"
      ]
     },
     "execution_count": 19,
     "metadata": {},
     "output_type": "execute_result"
    },
    {
     "data": {
      "image/png": "[encoded data removed]",
      "text/plain": [
       "<Figure size 1152x576 with 1 Axes>"
      ]
     },
     "metadata": {},
     "output_type": "display_data"
    }
   ],
   "source": [
    "fig, ax = plt.subplots()\n",
    "df.boxplot(['trip_duration'], fontsize=12)\n",
    "fig.suptitle('Visualisation des outliers', fontsize=20)"
   ]
  },
  {
   "cell_type": "markdown",
   "metadata": {
    "_uuid": "0e9d47ac078650221bd40a75c31fc459ccdda00c"
   },
   "source": [
    "> On observe qu'il y a certaines valeurs très extrèmes. Je considère qu'une course d'une durée inférieure à 1 minutes (60 secondes) et supérieure à 6 heures (21600 secondes) sont des outliers et donc méritent d'être supprimées"
   ]
  },
  {
   "cell_type": "code",
   "execution_count": 20,
   "metadata": {
    "_uuid": "87930b6f3d1bdf5b7d40a1002a16aa9d7dfe67c0"
   },
   "outputs": [],
   "source": [
    "df = df[(df['trip_duration'] > 60) & (df['trip_duration'] < 3600 * 6)]"
   ]
  },
  {
   "cell_type": "markdown",
   "metadata": {
    "_uuid": "e9f93e311cad69906e1a61b663fe9f623f4f3291"
   },
   "source": [
    "### Gestion des variables catégoriques"
   ]
  },
  {
   "cell_type": "markdown",
   "metadata": {
    "_uuid": "07a40677770f3b9e1bd85b5700c4a806faaf4418"
   },
   "source": [
    "> Pour la colonne `store_and_fwd_flag`, il est nécessaire de passer les valeurs en valeurs numériques si on veut que ce soit compris par notre modèle."
   ]
  },
  {
   "cell_type": "code",
   "execution_count": 21,
   "metadata": {
    "_uuid": "7425f665f7664947f46ac5d21866f430feb8b83c"
   },
   "outputs": [],
   "source": [
    "df['store_and_fwd_flag'] = df['store_and_fwd_flag'].astype('category').cat.codes\n",
    "df_test['store_and_fwd_flag'] = df_test['store_and_fwd_flag'].astype('category').cat.codes"
   ]
  },
  {
   "cell_type": "markdown",
   "metadata": {
    "_uuid": "c55e5c05bfbeee5014b0aa1bc7b1ad284b05fbd7"
   },
   "source": [
    "## Features engineering"
   ]
  },
  {
   "cell_type": "markdown",
   "metadata": {
    "_uuid": "f8909674251ffd7011413447db9da70795b0d76b"
   },
   "source": [
    "### Features Extraction"
   ]
  },
  {
   "cell_type": "markdown",
   "metadata": {
    "_uuid": "ee93ff3d848cc01c4b5e1102c8eb6fe5c167d837"
   },
   "source": [
    "#### Travail sur les coordonnées : https://www.kaggle.com/gaborfodor/from-eda-to-the-top-lb-0-367\n",
    "> Comme j'avais du mal à travailler avec les coordonnées, je me suis inspiré du travail du kernel \"From EDA to the Top\" qui fait un traitement des coordonnées avec PCA. PCA est un module de scikit learn qui permet de transformer des objets en objet de plus petite dimention. Ici cela va permettre d'avoir des données plus simple à interpreter pour notre modèle de prédiction."
   ]
  },
  {
   "cell_type": "code",
   "execution_count": 22,
   "metadata": {
    "_uuid": "da19f740b3dd1501e41cb849f3840f611f6e59a1"
   },
   "outputs": [],
   "source": [
    "from sklearn.decomposition import PCA"
   ]
  },
  {
   "cell_type": "code",
   "execution_count": 23,
   "metadata": {
    "_uuid": "d3712737907242513e6b6117ad2e807628695da7"
   },
   "outputs": [],
   "source": [
    "coords = np.vstack((df[['pickup_latitude', 'pickup_longitude']].values,\n",
    "                    df[['dropoff_latitude', 'dropoff_longitude']].values,\n",
    "                    df_test[['pickup_latitude', 'pickup_longitude']].values,\n",
    "                    df_test[['dropoff_latitude', 'dropoff_longitude']].values))\n",
    "\n",
    "pca = PCA().fit(coords)\n",
    "\n",
    "#Pour le fichier de train\n",
    "df['pickup_pca0'] = pca.transform(df[['pickup_latitude', 'pickup_longitude']])[:, 0]\n",
    "df['pickup_pca1'] = pca.transform(df[['pickup_latitude', 'pickup_longitude']])[:, 1]\n",
    "df['dropoff_pca0'] = pca.transform(df[['dropoff_latitude', 'dropoff_longitude']])[:, 0]\n",
    "df['dropoff_pca1'] = pca.transform(df[['dropoff_latitude', 'dropoff_longitude']])[:, 1]\n",
    "\n",
    "#Pour le fichier de test\n",
    "df_test['pickup_pca0'] = pca.transform(df_test[['pickup_latitude', 'pickup_longitude']])[:, 0]\n",
    "df_test['pickup_pca1'] = pca.transform(df_test[['pickup_latitude', 'pickup_longitude']])[:, 1]\n",
    "df_test['dropoff_pca0'] = pca.transform(df_test[['dropoff_latitude', 'dropoff_longitude']])[:, 0]\n",
    "df_test['dropoff_pca1'] = pca.transform(df_test[['dropoff_latitude', 'dropoff_longitude']])[:, 1]"
   ]
  },
  {
   "cell_type": "markdown",
   "metadata": {
    "_uuid": "1c48546fa74b0038f7e68946cb8d251fbbd03fa1"
   },
   "source": [
    "> Je me retrouve donc maintenant avec 4 nouvelles colonnes `pickup_pca0`, `pickup_pca1`, `dropoff_pca0` et `dropoff_pca1` qui correspondent à des données simplifiées de `pickup_latitude`, `pickup_longitude`, `dropoff_latitude` et `dropoff_longitude`."
   ]
  },
  {
   "cell_type": "code",
   "execution_count": 24,
   "metadata": {
    "_uuid": "443ce072e42c67c63afe1bf315f57ac19211f03f"
   },
   "outputs": [
    {
     "data": {
      "text/html": [
       "<div>\n",
       "<style scoped>\n",
       "    .dataframe tbody tr th:only-of-type {\n",
       "        vertical-align: middle;\n",
       "    }\n",
       "\n",
       "    .dataframe tbody tr th {\n",
       "        vertical-align: top;\n",
       "    }\n",
       "\n",
       "    .dataframe thead th {\n",
       "        text-align: right;\n",
       "    }\n",
       "</style>\n",
       "<table border=\"1\" class=\"dataframe\">\n",
       "  <thead>\n",
       "    <tr style=\"text-align: right;\">\n",
       "      <th></th>\n",
       "      <th>vendor_id</th>\n",
       "      <th>pickup_datetime</th>\n",
       "      <th>dropoff_datetime</th>\n",
       "      <th>passenger_count</th>\n",
       "      <th>pickup_longitude</th>\n",
       "      <th>pickup_latitude</th>\n",
       "      <th>dropoff_longitude</th>\n",
       "      <th>dropoff_latitude</th>\n",
       "      <th>store_and_fwd_flag</th>\n",
       "      <th>trip_duration</th>\n",
       "      <th>pickup_pca0</th>\n",
       "      <th>pickup_pca1</th>\n",
       "      <th>dropoff_pca0</th>\n",
       "      <th>dropoff_pca1</th>\n",
       "    </tr>\n",
       "    <tr>\n",
       "      <th>id</th>\n",
       "      <th></th>\n",
       "      <th></th>\n",
       "      <th></th>\n",
       "      <th></th>\n",
       "      <th></th>\n",
       "      <th></th>\n",
       "      <th></th>\n",
       "      <th></th>\n",
       "      <th></th>\n",
       "      <th></th>\n",
       "      <th></th>\n",
       "      <th></th>\n",
       "      <th></th>\n",
       "      <th></th>\n",
       "    </tr>\n",
       "  </thead>\n",
       "  <tbody>\n",
       "    <tr>\n",
       "      <th>id2875421</th>\n",
       "      <td>2</td>\n",
       "      <td>2016-03-14 17:24:55</td>\n",
       "      <td>2016-03-14 17:32:30</td>\n",
       "      <td>1</td>\n",
       "      <td>-73.982155</td>\n",
       "      <td>40.767937</td>\n",
       "      <td>-73.964630</td>\n",
       "      <td>40.765602</td>\n",
       "      <td>0</td>\n",
       "      <td>455</td>\n",
       "      <td>0.007621</td>\n",
       "      <td>0.017007</td>\n",
       "      <td>-0.009739</td>\n",
       "      <td>0.013662</td>\n",
       "    </tr>\n",
       "    <tr>\n",
       "      <th>id2377394</th>\n",
       "      <td>1</td>\n",
       "      <td>2016-06-12 00:43:35</td>\n",
       "      <td>2016-06-12 00:54:38</td>\n",
       "      <td>1</td>\n",
       "      <td>-73.980415</td>\n",
       "      <td>40.738564</td>\n",
       "      <td>-73.999481</td>\n",
       "      <td>40.731152</td>\n",
       "      <td>0</td>\n",
       "      <td>663</td>\n",
       "      <td>0.007585</td>\n",
       "      <td>-0.012418</td>\n",
       "      <td>0.027047</td>\n",
       "      <td>-0.018714</td>\n",
       "    </tr>\n",
       "    <tr>\n",
       "      <th>id3858529</th>\n",
       "      <td>2</td>\n",
       "      <td>2016-01-19 11:35:24</td>\n",
       "      <td>2016-01-19 12:10:48</td>\n",
       "      <td>1</td>\n",
       "      <td>-73.979027</td>\n",
       "      <td>40.763939</td>\n",
       "      <td>-74.005333</td>\n",
       "      <td>40.710087</td>\n",
       "      <td>0</td>\n",
       "      <td>2124</td>\n",
       "      <td>0.004730</td>\n",
       "      <td>0.012835</td>\n",
       "      <td>0.034109</td>\n",
       "      <td>-0.039404</td>\n",
       "    </tr>\n",
       "  </tbody>\n",
       "</table>\n",
       "</div>"
      ],
      "text/plain": [
       "           vendor_id     ...      dropoff_pca1\n",
       "id                       ...                  \n",
       "id2875421          2     ...          0.013662\n",
       "id2377394          1     ...         -0.018714\n",
       "id3858529          2     ...         -0.039404\n",
       "\n",
       "[3 rows x 14 columns]"
      ]
     },
     "execution_count": 24,
     "metadata": {},
     "output_type": "execute_result"
    }
   ],
   "source": [
    "df.head(3)"
   ]
  },
  {
   "cell_type": "markdown",
   "metadata": {
    "_uuid": "2b31c4b96f536b9630fddb36d40b14475291a39d"
   },
   "source": [
    "#### Création des features `month`, `day` & `hour`"
   ]
  },
  {
   "cell_type": "markdown",
   "metadata": {
    "_uuid": "6829f8980585809cfbe6b5ad410157b2280c320e"
   },
   "source": [
    "> Les dates sans traitement peuvent être difficile à interpréter. J'ai donc choisi d'extraire les valeurs intéressantes, c'est-à-dire le mois, le jour de la semaine et l'heure que j'extrais dans de nouvelles features."
   ]
  },
  {
   "cell_type": "code",
   "execution_count": 25,
   "metadata": {
    "_uuid": "194e96db069a64812dba2170febd6fc4c8e6246e"
   },
   "outputs": [],
   "source": [
    "df['pickup_datetime'] = pd.to_datetime(df['pickup_datetime'])\n",
    "df['dropoff_datetime'] = pd.to_datetime(df['dropoff_datetime'])\n",
    "df_test['pickup_datetime'] = pd.to_datetime(df_test['pickup_datetime'])"
   ]
  },
  {
   "cell_type": "code",
   "execution_count": 26,
   "metadata": {
    "_uuid": "7b3099225d0843b0313126283c5ebb139405b0d1"
   },
   "outputs": [],
   "source": [
    "df['hour'] = df.pickup_datetime.dt.hour\n",
    "df['day'] = df.pickup_datetime.dt.dayofweek\n",
    "df['month'] = df.pickup_datetime.dt.month\n",
    "df_test['hour'] = df_test.pickup_datetime.dt.hour\n",
    "df_test['day'] = df_test.pickup_datetime.dt.dayofweek\n",
    "df_test['month'] = df_test.pickup_datetime.dt.month"
   ]
  },
  {
   "cell_type": "markdown",
   "metadata": {
    "_uuid": "3a8b758d8d68f0cfdb67730fd6eeda6e4893169f"
   },
   "source": [
    "#### Feature `distance`"
   ]
  },
  {
   "cell_type": "markdown",
   "metadata": {
    "_uuid": "47e852dac5876eb33fdfb53f787576af36e42428"
   },
   "source": [
    "> Pour la distance, j'ai choisi de faire un calcul simple qui correspond au calcul de la longueur d'un vecteur."
   ]
  },
  {
   "cell_type": "code",
   "execution_count": 27,
   "metadata": {
    "_uuid": "5eb6c38f83394ba541a6f997b3b1084cea9cfa32"
   },
   "outputs": [],
   "source": [
    "df['distance2'] = np.sqrt((df['pickup_pca0']-df['dropoff_pca0'])**2\n",
    "                        + (df['pickup_pca1']-df['dropoff_pca1'])**2)\n",
    "df_test['distance2'] = np.sqrt((df_test['pickup_pca0']-df_test['dropoff_pca0'])**2\n",
    "                        + (df_test['pickup_pca1']-df_test['dropoff_pca1'])**2)"
   ]
  },
  {
   "cell_type": "markdown",
   "metadata": {
    "_uuid": "cf92ccfc9ff87bb0f169e1948783d9dfee36d6aa"
   },
   "source": [
    "#### Transformation logarithmique"
   ]
  },
  {
   "cell_type": "code",
   "execution_count": 28,
   "metadata": {
    "_uuid": "d0a5612c8b512aedff7feb841032fe2a8d51808d"
   },
   "outputs": [],
   "source": [
    "df['log_trip_duration'] = np.log(df['trip_duration'])"
   ]
  },
  {
   "cell_type": "code",
   "execution_count": 29,
   "metadata": {
    "_uuid": "51369b883a30b94738ca263ef9a9dba318e42a87"
   },
   "outputs": [
    {
     "data": {
      "text/html": [
       "<div>\n",
       "<style scoped>\n",
       "    .dataframe tbody tr th:only-of-type {\n",
       "        vertical-align: middle;\n",
       "    }\n",
       "\n",
       "    .dataframe tbody tr th {\n",
       "        vertical-align: top;\n",
       "    }\n",
       "\n",
       "    .dataframe thead th {\n",
       "        text-align: right;\n",
       "    }\n",
       "</style>\n",
       "<table border=\"1\" class=\"dataframe\">\n",
       "  <thead>\n",
       "    <tr style=\"text-align: right;\">\n",
       "      <th></th>\n",
       "      <th>vendor_id</th>\n",
       "      <th>pickup_datetime</th>\n",
       "      <th>dropoff_datetime</th>\n",
       "      <th>passenger_count</th>\n",
       "      <th>pickup_longitude</th>\n",
       "      <th>pickup_latitude</th>\n",
       "      <th>dropoff_longitude</th>\n",
       "      <th>dropoff_latitude</th>\n",
       "      <th>store_and_fwd_flag</th>\n",
       "      <th>trip_duration</th>\n",
       "      <th>pickup_pca0</th>\n",
       "      <th>pickup_pca1</th>\n",
       "      <th>dropoff_pca0</th>\n",
       "      <th>dropoff_pca1</th>\n",
       "      <th>hour</th>\n",
       "      <th>day</th>\n",
       "      <th>month</th>\n",
       "      <th>distance2</th>\n",
       "      <th>log_trip_duration</th>\n",
       "    </tr>\n",
       "    <tr>\n",
       "      <th>id</th>\n",
       "      <th></th>\n",
       "      <th></th>\n",
       "      <th></th>\n",
       "      <th></th>\n",
       "      <th></th>\n",
       "      <th></th>\n",
       "      <th></th>\n",
       "      <th></th>\n",
       "      <th></th>\n",
       "      <th></th>\n",
       "      <th></th>\n",
       "      <th></th>\n",
       "      <th></th>\n",
       "      <th></th>\n",
       "      <th></th>\n",
       "      <th></th>\n",
       "      <th></th>\n",
       "      <th></th>\n",
       "      <th></th>\n",
       "    </tr>\n",
       "  </thead>\n",
       "  <tbody>\n",
       "    <tr>\n",
       "      <th>id2875421</th>\n",
       "      <td>2</td>\n",
       "      <td>2016-03-14 17:24:55</td>\n",
       "      <td>2016-03-14 17:32:30</td>\n",
       "      <td>1</td>\n",
       "      <td>-73.982155</td>\n",
       "      <td>40.767937</td>\n",
       "      <td>-73.964630</td>\n",
       "      <td>40.765602</td>\n",
       "      <td>0</td>\n",
       "      <td>455</td>\n",
       "      <td>0.007621</td>\n",
       "      <td>0.017007</td>\n",
       "      <td>-0.009739</td>\n",
       "      <td>0.013662</td>\n",
       "      <td>17</td>\n",
       "      <td>0</td>\n",
       "      <td>3</td>\n",
       "      <td>0.017680</td>\n",
       "      <td>6.120297</td>\n",
       "    </tr>\n",
       "    <tr>\n",
       "      <th>id2377394</th>\n",
       "      <td>1</td>\n",
       "      <td>2016-06-12 00:43:35</td>\n",
       "      <td>2016-06-12 00:54:38</td>\n",
       "      <td>1</td>\n",
       "      <td>-73.980415</td>\n",
       "      <td>40.738564</td>\n",
       "      <td>-73.999481</td>\n",
       "      <td>40.731152</td>\n",
       "      <td>0</td>\n",
       "      <td>663</td>\n",
       "      <td>0.007585</td>\n",
       "      <td>-0.012418</td>\n",
       "      <td>0.027047</td>\n",
       "      <td>-0.018714</td>\n",
       "      <td>0</td>\n",
       "      <td>6</td>\n",
       "      <td>6</td>\n",
       "      <td>0.020456</td>\n",
       "      <td>6.496775</td>\n",
       "    </tr>\n",
       "    <tr>\n",
       "      <th>id3858529</th>\n",
       "      <td>2</td>\n",
       "      <td>2016-01-19 11:35:24</td>\n",
       "      <td>2016-01-19 12:10:48</td>\n",
       "      <td>1</td>\n",
       "      <td>-73.979027</td>\n",
       "      <td>40.763939</td>\n",
       "      <td>-74.005333</td>\n",
       "      <td>40.710087</td>\n",
       "      <td>0</td>\n",
       "      <td>2124</td>\n",
       "      <td>0.004730</td>\n",
       "      <td>0.012835</td>\n",
       "      <td>0.034109</td>\n",
       "      <td>-0.039404</td>\n",
       "      <td>11</td>\n",
       "      <td>1</td>\n",
       "      <td>1</td>\n",
       "      <td>0.059934</td>\n",
       "      <td>7.661056</td>\n",
       "    </tr>\n",
       "  </tbody>\n",
       "</table>\n",
       "</div>"
      ],
      "text/plain": [
       "           vendor_id        ...        log_trip_duration\n",
       "id                          ...                         \n",
       "id2875421          2        ...                 6.120297\n",
       "id2377394          1        ...                 6.496775\n",
       "id3858529          2        ...                 7.661056\n",
       "\n",
       "[3 rows x 19 columns]"
      ]
     },
     "execution_count": 29,
     "metadata": {},
     "output_type": "execute_result"
    }
   ],
   "source": [
    "df.head(3)"
   ]
  },
  {
   "cell_type": "code",
   "execution_count": 30,
   "metadata": {
    "_uuid": "70623a1f7986d4338e844615c4b15b6be7c04ca7"
   },
   "outputs": [
    {
     "data": {
      "text/html": [
       "<div>\n",
       "<style scoped>\n",
       "    .dataframe tbody tr th:only-of-type {\n",
       "        vertical-align: middle;\n",
       "    }\n",
       "\n",
       "    .dataframe tbody tr th {\n",
       "        vertical-align: top;\n",
       "    }\n",
       "\n",
       "    .dataframe thead th {\n",
       "        text-align: right;\n",
       "    }\n",
       "</style>\n",
       "<table border=\"1\" class=\"dataframe\">\n",
       "  <thead>\n",
       "    <tr style=\"text-align: right;\">\n",
       "      <th></th>\n",
       "      <th>id</th>\n",
       "      <th>vendor_id</th>\n",
       "      <th>pickup_datetime</th>\n",
       "      <th>passenger_count</th>\n",
       "      <th>pickup_longitude</th>\n",
       "      <th>pickup_latitude</th>\n",
       "      <th>dropoff_longitude</th>\n",
       "      <th>dropoff_latitude</th>\n",
       "      <th>store_and_fwd_flag</th>\n",
       "      <th>pickup_pca0</th>\n",
       "      <th>pickup_pca1</th>\n",
       "      <th>dropoff_pca0</th>\n",
       "      <th>dropoff_pca1</th>\n",
       "      <th>hour</th>\n",
       "      <th>day</th>\n",
       "      <th>month</th>\n",
       "      <th>distance2</th>\n",
       "    </tr>\n",
       "  </thead>\n",
       "  <tbody>\n",
       "    <tr>\n",
       "      <th>0</th>\n",
       "      <td>id3004672</td>\n",
       "      <td>1</td>\n",
       "      <td>2016-06-30 23:59:58</td>\n",
       "      <td>1</td>\n",
       "      <td>-73.988129</td>\n",
       "      <td>40.732029</td>\n",
       "      <td>-73.990173</td>\n",
       "      <td>40.756680</td>\n",
       "      <td>0</td>\n",
       "      <td>0.015663</td>\n",
       "      <td>-0.018495</td>\n",
       "      <td>0.016278</td>\n",
       "      <td>0.006233</td>\n",
       "      <td>23</td>\n",
       "      <td>3</td>\n",
       "      <td>6</td>\n",
       "      <td>0.024735</td>\n",
       "    </tr>\n",
       "    <tr>\n",
       "      <th>1</th>\n",
       "      <td>id3505355</td>\n",
       "      <td>1</td>\n",
       "      <td>2016-06-30 23:59:53</td>\n",
       "      <td>1</td>\n",
       "      <td>-73.964203</td>\n",
       "      <td>40.679993</td>\n",
       "      <td>-73.959808</td>\n",
       "      <td>40.655403</td>\n",
       "      <td>0</td>\n",
       "      <td>-0.005211</td>\n",
       "      <td>-0.071829</td>\n",
       "      <td>-0.008175</td>\n",
       "      <td>-0.096631</td>\n",
       "      <td>23</td>\n",
       "      <td>3</td>\n",
       "      <td>6</td>\n",
       "      <td>0.024979</td>\n",
       "    </tr>\n",
       "    <tr>\n",
       "      <th>2</th>\n",
       "      <td>id1217141</td>\n",
       "      <td>1</td>\n",
       "      <td>2016-06-30 23:59:47</td>\n",
       "      <td>1</td>\n",
       "      <td>-73.997437</td>\n",
       "      <td>40.737583</td>\n",
       "      <td>-73.986160</td>\n",
       "      <td>40.729523</td>\n",
       "      <td>0</td>\n",
       "      <td>0.024634</td>\n",
       "      <td>-0.012411</td>\n",
       "      <td>0.013843</td>\n",
       "      <td>-0.021111</td>\n",
       "      <td>23</td>\n",
       "      <td>3</td>\n",
       "      <td>6</td>\n",
       "      <td>0.013861</td>\n",
       "    </tr>\n",
       "  </tbody>\n",
       "</table>\n",
       "</div>"
      ],
      "text/plain": [
       "          id  vendor_id     pickup_datetime    ...      day  month  distance2\n",
       "0  id3004672          1 2016-06-30 23:59:58    ...        3      6   0.024735\n",
       "1  id3505355          1 2016-06-30 23:59:53    ...        3      6   0.024979\n",
       "2  id1217141          1 2016-06-30 23:59:47    ...        3      6   0.013861\n",
       "\n",
       "[3 rows x 17 columns]"
      ]
     },
     "execution_count": 30,
     "metadata": {},
     "output_type": "execute_result"
    }
   ],
   "source": [
    "df_test.head(3)"
   ]
  },
  {
   "cell_type": "markdown",
   "metadata": {
    "_uuid": "583a2266d7291f27372b32534c628b1d3e485ced"
   },
   "source": [
    "## Features selection"
   ]
  },
  {
   "cell_type": "markdown",
   "metadata": {
    "_uuid": "2bcc60cda78722c148e85e366ea0e22a9f751217"
   },
   "source": [
    "> Après plusieurs tests et déductions, j'ai choisi les features présentent ci-dessous. La target n'est maintenant plus `trip_duration` mais sa version log."
   ]
  },
  {
   "cell_type": "code",
   "execution_count": 31,
   "metadata": {
    "_uuid": "3b4cec0bbf69708c11a9427dbee82feab344a1bc"
   },
   "outputs": [],
   "source": [
    "NUM_VARS = ['pickup_pca0', 'pickup_pca1', 'dropoff_pca0', 'dropoff_pca1', 'month', 'hour', 'day', 'distance2']\n",
    "TARGET = 'log_trip_duration'"
   ]
  },
  {
   "cell_type": "code",
   "execution_count": 32,
   "metadata": {
    "_uuid": "c988af2c4df739637d1a6dc83816f7501417628f"
   },
   "outputs": [],
   "source": [
    "num_features = NUM_VARS"
   ]
  },
  {
   "cell_type": "code",
   "execution_count": 33,
   "metadata": {
    "_uuid": "5a317c946a49b0dab7e9e8033482bf4d2b060793",
    "scrolled": true
   },
   "outputs": [
    {
     "data": {
      "text/plain": [
       "((1447784, 8), (1447784,), (625134, 8))"
      ]
     },
     "execution_count": 33,
     "metadata": {},
     "output_type": "execute_result"
    }
   ],
   "source": [
    "X_train = df.loc[:, num_features]\n",
    "y_train = df[TARGET]\n",
    "X_test = df_test.loc[:, num_features]\n",
    "X_train.shape, y_train.shape, X_test.shape"
   ]
  },
  {
   "cell_type": "markdown",
   "metadata": {
    "_uuid": "91d97c9a189c5e6daa4486c1dbd94e0069bf4311"
   },
   "source": [
    "## Training"
   ]
  },
  {
   "cell_type": "code",
   "execution_count": 34,
   "metadata": {
    "_uuid": "00364d5dc8a5d1d8870f947ee7327c6a8a3fcca9"
   },
   "outputs": [],
   "source": [
    "from sklearn.ensemble import RandomForestRegressor"
   ]
  },
  {
   "cell_type": "markdown",
   "metadata": {
    "_uuid": "75857642f83796aa67529f1f4c970706211a0254"
   },
   "source": [
    "> Après plusieurs tests et déductions, j'ai choisi ces paramètres pour mon RandomForestRegressor."
   ]
  },
  {
   "cell_type": "code",
   "execution_count": 35,
   "metadata": {
    "_uuid": "f902072cd5fc0b8530c4a917b44cd095864b3f5a"
   },
   "outputs": [
    {
     "data": {
      "text/plain": [
       "RandomForestRegressor(bootstrap=True, criterion='mse', max_depth=80,\n",
       "           max_features='auto', max_leaf_nodes=None,\n",
       "           min_impurity_decrease=0.0, min_impurity_split=None,\n",
       "           min_samples_leaf=10, min_samples_split=15,\n",
       "           min_weight_fraction_leaf=0.0, n_estimators=17, n_jobs=None,\n",
       "           oob_score=False, random_state=None, verbose=0, warm_start=False)"
      ]
     },
     "execution_count": 35,
     "metadata": {},
     "output_type": "execute_result"
    }
   ],
   "source": [
    "m = RandomForestRegressor(n_estimators=17, min_samples_leaf=10, min_samples_split=15, max_features='auto', max_depth=80, bootstrap=True)\n",
    "m.fit(X_train, y_train)"
   ]
  },
  {
   "cell_type": "code",
   "execution_count": 36,
   "metadata": {
    "_uuid": "77770930ab22dc4fd3c6dcd1dee913c816881639"
   },
   "outputs": [],
   "source": [
    "from sklearn.model_selection import cross_val_score"
   ]
  },
  {
   "cell_type": "code",
   "execution_count": 37,
   "metadata": {
    "_uuid": "efb83b1c16bb6c0e9c9249501034c08d4cd5bcb5"
   },
   "outputs": [
    {
     "data": {
      "text/plain": [
       "array([-0.00217009, -0.00213817, -0.00215165, -0.00216203, -0.00216181])"
      ]
     },
     "execution_count": 37,
     "metadata": {},
     "output_type": "execute_result"
    }
   ],
   "source": [
    "cv_scores = cross_val_score(m, X_train, y_train, cv=5, scoring='neg_mean_squared_log_error')\n",
    "cv_scores"
   ]
  },
  {
   "cell_type": "code",
   "execution_count": 38,
   "metadata": {
    "_uuid": "1a68a3805048b634dd2b4a0f49a64e1a417ee503"
   },
   "outputs": [
    {
     "data": {
      "text/plain": [
       "array([6.66368449, 6.41241881, 6.021322  , 6.96952217, 5.90324912])"
      ]
     },
     "execution_count": 38,
     "metadata": {},
     "output_type": "execute_result"
    }
   ],
   "source": [
    "y_test_pred = m.predict(X_test)\n",
    "y_test_pred[:5]"
   ]
  },
  {
   "cell_type": "code",
   "execution_count": 39,
   "metadata": {
    "_uuid": "7c2aebbd5d566e6da071c66e5201346c0a010a50"
   },
   "outputs": [],
   "source": [
    "my_submission = pd.DataFrame({'id': df_test.id, 'trip_duration': np.exp(y_test_pred)})\n",
    "my_submission.to_csv('submission.csv', index=False)"
   ]
  },
  {
   "cell_type": "markdown",
   "metadata": {
    "_uuid": "82667f2d1eac3502828618d42359a1fb30666dae"
   },
   "source": [
    "> Voici les 100 premières prédictions que mon modèle à généré."
   ]
  },
  {
   "cell_type": "code",
   "execution_count": 40,
   "metadata": {
    "_uuid": "e8b47ed1ae7ca27606936555441be7f27adf7c72",
    "scrolled": true
   },
   "outputs": [
    {
     "data": {
      "text/html": [
       "<div>\n",
       "<style scoped>\n",
       "    .dataframe tbody tr th:only-of-type {\n",
       "        vertical-align: middle;\n",
       "    }\n",
       "\n",
       "    .dataframe tbody tr th {\n",
       "        vertical-align: top;\n",
       "    }\n",
       "\n",
       "    .dataframe thead th {\n",
       "        text-align: right;\n",
       "    }\n",
       "</style>\n",
       "<table border=\"1\" class=\"dataframe\">\n",
       "  <thead>\n",
       "    <tr style=\"text-align: right;\">\n",
       "      <th></th>\n",
       "      <th>id</th>\n",
       "      <th>trip_duration</th>\n",
       "    </tr>\n",
       "  </thead>\n",
       "  <tbody>\n",
       "    <tr>\n",
       "      <th>0</th>\n",
       "      <td>id3004672</td>\n",
       "      <td>783.432172</td>\n",
       "    </tr>\n",
       "    <tr>\n",
       "      <th>1</th>\n",
       "      <td>id3505355</td>\n",
       "      <td>609.365840</td>\n",
       "    </tr>\n",
       "    <tr>\n",
       "      <th>2</th>\n",
       "      <td>id1217141</td>\n",
       "      <td>412.123063</td>\n",
       "    </tr>\n",
       "    <tr>\n",
       "      <th>3</th>\n",
       "      <td>id2150126</td>\n",
       "      <td>1063.714353</td>\n",
       "    </tr>\n",
       "    <tr>\n",
       "      <th>4</th>\n",
       "      <td>id1598245</td>\n",
       "      <td>366.225449</td>\n",
       "    </tr>\n",
       "    <tr>\n",
       "      <th>5</th>\n",
       "      <td>id0668992</td>\n",
       "      <td>1017.956820</td>\n",
       "    </tr>\n",
       "    <tr>\n",
       "      <th>6</th>\n",
       "      <td>id1765014</td>\n",
       "      <td>1122.104344</td>\n",
       "    </tr>\n",
       "    <tr>\n",
       "      <th>7</th>\n",
       "      <td>id0898117</td>\n",
       "      <td>844.670367</td>\n",
       "    </tr>\n",
       "    <tr>\n",
       "      <th>8</th>\n",
       "      <td>id3905224</td>\n",
       "      <td>2528.723964</td>\n",
       "    </tr>\n",
       "    <tr>\n",
       "      <th>9</th>\n",
       "      <td>id1543102</td>\n",
       "      <td>579.211246</td>\n",
       "    </tr>\n",
       "    <tr>\n",
       "      <th>10</th>\n",
       "      <td>id3024712</td>\n",
       "      <td>1080.518789</td>\n",
       "    </tr>\n",
       "    <tr>\n",
       "      <th>11</th>\n",
       "      <td>id3665810</td>\n",
       "      <td>330.556218</td>\n",
       "    </tr>\n",
       "    <tr>\n",
       "      <th>12</th>\n",
       "      <td>id1836461</td>\n",
       "      <td>355.316786</td>\n",
       "    </tr>\n",
       "    <tr>\n",
       "      <th>13</th>\n",
       "      <td>id3457080</td>\n",
       "      <td>628.149425</td>\n",
       "    </tr>\n",
       "    <tr>\n",
       "      <th>14</th>\n",
       "      <td>id3376065</td>\n",
       "      <td>1214.709357</td>\n",
       "    </tr>\n",
       "    <tr>\n",
       "      <th>15</th>\n",
       "      <td>id3008739</td>\n",
       "      <td>642.087935</td>\n",
       "    </tr>\n",
       "    <tr>\n",
       "      <th>16</th>\n",
       "      <td>id0902216</td>\n",
       "      <td>1102.606182</td>\n",
       "    </tr>\n",
       "    <tr>\n",
       "      <th>17</th>\n",
       "      <td>id3564824</td>\n",
       "      <td>435.686380</td>\n",
       "    </tr>\n",
       "    <tr>\n",
       "      <th>18</th>\n",
       "      <td>id0820280</td>\n",
       "      <td>166.648719</td>\n",
       "    </tr>\n",
       "    <tr>\n",
       "      <th>19</th>\n",
       "      <td>id0775088</td>\n",
       "      <td>1047.955710</td>\n",
       "    </tr>\n",
       "    <tr>\n",
       "      <th>20</th>\n",
       "      <td>id1468488</td>\n",
       "      <td>295.849746</td>\n",
       "    </tr>\n",
       "    <tr>\n",
       "      <th>21</th>\n",
       "      <td>id2657479</td>\n",
       "      <td>458.605793</td>\n",
       "    </tr>\n",
       "    <tr>\n",
       "      <th>22</th>\n",
       "      <td>id1262719</td>\n",
       "      <td>600.214012</td>\n",
       "    </tr>\n",
       "    <tr>\n",
       "      <th>23</th>\n",
       "      <td>id1345524</td>\n",
       "      <td>1113.498300</td>\n",
       "    </tr>\n",
       "    <tr>\n",
       "      <th>24</th>\n",
       "      <td>id2911638</td>\n",
       "      <td>916.592649</td>\n",
       "    </tr>\n",
       "    <tr>\n",
       "      <th>25</th>\n",
       "      <td>id2849512</td>\n",
       "      <td>1233.326936</td>\n",
       "    </tr>\n",
       "    <tr>\n",
       "      <th>26</th>\n",
       "      <td>id0236829</td>\n",
       "      <td>437.104332</td>\n",
       "    </tr>\n",
       "    <tr>\n",
       "      <th>27</th>\n",
       "      <td>id2905906</td>\n",
       "      <td>417.308457</td>\n",
       "    </tr>\n",
       "    <tr>\n",
       "      <th>28</th>\n",
       "      <td>id3737939</td>\n",
       "      <td>1087.647970</td>\n",
       "    </tr>\n",
       "    <tr>\n",
       "      <th>29</th>\n",
       "      <td>id0766179</td>\n",
       "      <td>1848.388821</td>\n",
       "    </tr>\n",
       "    <tr>\n",
       "      <th>...</th>\n",
       "      <td>...</td>\n",
       "      <td>...</td>\n",
       "    </tr>\n",
       "    <tr>\n",
       "      <th>70</th>\n",
       "      <td>id1792589</td>\n",
       "      <td>543.111656</td>\n",
       "    </tr>\n",
       "    <tr>\n",
       "      <th>71</th>\n",
       "      <td>id0071844</td>\n",
       "      <td>624.827797</td>\n",
       "    </tr>\n",
       "    <tr>\n",
       "      <th>72</th>\n",
       "      <td>id3468683</td>\n",
       "      <td>450.863873</td>\n",
       "    </tr>\n",
       "    <tr>\n",
       "      <th>73</th>\n",
       "      <td>id2108605</td>\n",
       "      <td>610.821928</td>\n",
       "    </tr>\n",
       "    <tr>\n",
       "      <th>74</th>\n",
       "      <td>id3353510</td>\n",
       "      <td>580.420566</td>\n",
       "    </tr>\n",
       "    <tr>\n",
       "      <th>75</th>\n",
       "      <td>id1707352</td>\n",
       "      <td>1388.142216</td>\n",
       "    </tr>\n",
       "    <tr>\n",
       "      <th>76</th>\n",
       "      <td>id1650458</td>\n",
       "      <td>879.976692</td>\n",
       "    </tr>\n",
       "    <tr>\n",
       "      <th>77</th>\n",
       "      <td>id2175910</td>\n",
       "      <td>843.822348</td>\n",
       "    </tr>\n",
       "    <tr>\n",
       "      <th>78</th>\n",
       "      <td>id1443779</td>\n",
       "      <td>557.019477</td>\n",
       "    </tr>\n",
       "    <tr>\n",
       "      <th>79</th>\n",
       "      <td>id2459479</td>\n",
       "      <td>1642.125067</td>\n",
       "    </tr>\n",
       "    <tr>\n",
       "      <th>80</th>\n",
       "      <td>id0358410</td>\n",
       "      <td>967.155881</td>\n",
       "    </tr>\n",
       "    <tr>\n",
       "      <th>81</th>\n",
       "      <td>id0582396</td>\n",
       "      <td>842.701195</td>\n",
       "    </tr>\n",
       "    <tr>\n",
       "      <th>82</th>\n",
       "      <td>id2262648</td>\n",
       "      <td>531.475106</td>\n",
       "    </tr>\n",
       "    <tr>\n",
       "      <th>83</th>\n",
       "      <td>id2422279</td>\n",
       "      <td>539.419284</td>\n",
       "    </tr>\n",
       "    <tr>\n",
       "      <th>84</th>\n",
       "      <td>id3993739</td>\n",
       "      <td>687.241094</td>\n",
       "    </tr>\n",
       "    <tr>\n",
       "      <th>85</th>\n",
       "      <td>id2578671</td>\n",
       "      <td>720.124552</td>\n",
       "    </tr>\n",
       "    <tr>\n",
       "      <th>86</th>\n",
       "      <td>id3313356</td>\n",
       "      <td>293.150130</td>\n",
       "    </tr>\n",
       "    <tr>\n",
       "      <th>87</th>\n",
       "      <td>id0526259</td>\n",
       "      <td>834.512943</td>\n",
       "    </tr>\n",
       "    <tr>\n",
       "      <th>88</th>\n",
       "      <td>id2384843</td>\n",
       "      <td>925.243904</td>\n",
       "    </tr>\n",
       "    <tr>\n",
       "      <th>89</th>\n",
       "      <td>id1266405</td>\n",
       "      <td>302.488907</td>\n",
       "    </tr>\n",
       "    <tr>\n",
       "      <th>90</th>\n",
       "      <td>id2043002</td>\n",
       "      <td>1013.314694</td>\n",
       "    </tr>\n",
       "    <tr>\n",
       "      <th>91</th>\n",
       "      <td>id1284494</td>\n",
       "      <td>733.504130</td>\n",
       "    </tr>\n",
       "    <tr>\n",
       "      <th>92</th>\n",
       "      <td>id0226404</td>\n",
       "      <td>969.295196</td>\n",
       "    </tr>\n",
       "    <tr>\n",
       "      <th>93</th>\n",
       "      <td>id1170300</td>\n",
       "      <td>2092.800748</td>\n",
       "    </tr>\n",
       "    <tr>\n",
       "      <th>94</th>\n",
       "      <td>id1309256</td>\n",
       "      <td>1651.379879</td>\n",
       "    </tr>\n",
       "    <tr>\n",
       "      <th>95</th>\n",
       "      <td>id3645922</td>\n",
       "      <td>719.674796</td>\n",
       "    </tr>\n",
       "    <tr>\n",
       "      <th>96</th>\n",
       "      <td>id1595264</td>\n",
       "      <td>699.683520</td>\n",
       "    </tr>\n",
       "    <tr>\n",
       "      <th>97</th>\n",
       "      <td>id2594446</td>\n",
       "      <td>851.843617</td>\n",
       "    </tr>\n",
       "    <tr>\n",
       "      <th>98</th>\n",
       "      <td>id0777968</td>\n",
       "      <td>882.836339</td>\n",
       "    </tr>\n",
       "    <tr>\n",
       "      <th>99</th>\n",
       "      <td>id0426749</td>\n",
       "      <td>1203.865912</td>\n",
       "    </tr>\n",
       "  </tbody>\n",
       "</table>\n",
       "<p>100 rows × 2 columns</p>\n",
       "</div>"
      ],
      "text/plain": [
       "           id  trip_duration\n",
       "0   id3004672     783.432172\n",
       "1   id3505355     609.365840\n",
       "2   id1217141     412.123063\n",
       "3   id2150126    1063.714353\n",
       "4   id1598245     366.225449\n",
       "5   id0668992    1017.956820\n",
       "6   id1765014    1122.104344\n",
       "7   id0898117     844.670367\n",
       "8   id3905224    2528.723964\n",
       "9   id1543102     579.211246\n",
       "10  id3024712    1080.518789\n",
       "11  id3665810     330.556218\n",
       "12  id1836461     355.316786\n",
       "13  id3457080     628.149425\n",
       "14  id3376065    1214.709357\n",
       "15  id3008739     642.087935\n",
       "16  id0902216    1102.606182\n",
       "17  id3564824     435.686380\n",
       "18  id0820280     166.648719\n",
       "19  id0775088    1047.955710\n",
       "20  id1468488     295.849746\n",
       "21  id2657479     458.605793\n",
       "22  id1262719     600.214012\n",
       "23  id1345524    1113.498300\n",
       "24  id2911638     916.592649\n",
       "25  id2849512    1233.326936\n",
       "26  id0236829     437.104332\n",
       "27  id2905906     417.308457\n",
       "28  id3737939    1087.647970\n",
       "29  id0766179    1848.388821\n",
       "..        ...            ...\n",
       "70  id1792589     543.111656\n",
       "71  id0071844     624.827797\n",
       "72  id3468683     450.863873\n",
       "73  id2108605     610.821928\n",
       "74  id3353510     580.420566\n",
       "75  id1707352    1388.142216\n",
       "76  id1650458     879.976692\n",
       "77  id2175910     843.822348\n",
       "78  id1443779     557.019477\n",
       "79  id2459479    1642.125067\n",
       "80  id0358410     967.155881\n",
       "81  id0582396     842.701195\n",
       "82  id2262648     531.475106\n",
       "83  id2422279     539.419284\n",
       "84  id3993739     687.241094\n",
       "85  id2578671     720.124552\n",
       "86  id3313356     293.150130\n",
       "87  id0526259     834.512943\n",
       "88  id2384843     925.243904\n",
       "89  id1266405     302.488907\n",
       "90  id2043002    1013.314694\n",
       "91  id1284494     733.504130\n",
       "92  id0226404     969.295196\n",
       "93  id1170300    2092.800748\n",
       "94  id1309256    1651.379879\n",
       "95  id3645922     719.674796\n",
       "96  id1595264     699.683520\n",
       "97  id2594446     851.843617\n",
       "98  id0777968     882.836339\n",
       "99  id0426749    1203.865912\n",
       "\n",
       "[100 rows x 2 columns]"
      ]
     },
     "execution_count": 40,
     "metadata": {},
     "output_type": "execute_result"
    }
   ],
   "source": [
    "my_submission.head(100)"
   ]
  },
  {
   "cell_type": "code",
   "execution_count": 41,
   "metadata": {
    "_uuid": "82df46091066490fbc6d6bd20792f95318c074b0"
   },
   "outputs": [],
   "source": []
  }
 ],
 "metadata": {
  "kernelspec": {
   "display_name": "Python 3",
   "language": "python",
   "name": "python3"
  },
  "language_info": {
   "codemirror_mode": {
    "name": "ipython",
    "version": 3
   },
   "file_extension": ".py",
   "mimetype": "text/x-python",
   "name": "python",
   "nbconvert_exporter": "python",
   "pygments_lexer": "ipython3",
   "version": "3.6.6"
  }
 },
 "nbformat": 4,
 "nbformat_minor": 1
}
